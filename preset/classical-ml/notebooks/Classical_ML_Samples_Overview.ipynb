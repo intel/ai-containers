{
 "cells": [
  {
   "cell_type": "markdown",
   "metadata": {},
   "source": [
    "# Samples to Get Started with Intel® AI Tools Selector Classical ML Preset Container\n",
    "This Container features several samples to get started with understanding how Intel® AI Tools delivers optimized and scalable solutions for Classical ML workflows using Jupyterlab.\n",
    "\n",
    "Below are a list of samples included that take advantage of Intel Optimizations for a given AI Tool:\n",
    "1. [Intel® Modin](./modin/IntelModin_Vs_Pandas.ipynb): This notebook illustrates how to use Modin* to replace the Pandas API. The sample compares the performance of Intel® Distribution of Modin* and the performance of Pandas for specific dataframe operations. Intel® Distribution of Modin* accelerates Pandas operations using Ray or Dask execution engine. The distribution provides compatibility and integration with the existing Pandas code. The sample code demonstrates how to perform some basic dataframe operations using Pandas and Intel® Distribution of Modin*. You will be able to compare the performance difference between the two methods.\n",
    "2. [Getting Started With Intel SKLearn](./sklearn/Intel_Extension_For_SKLearn_GettingStarted.ipynb): Intel(R) Extension for Scikit-learn is a seamless way to speed up your Scikit-learn application. The acceleration is achieved through the use of the Intel(R) oneAPI Data Analytics Library (oneDAL). In this example we will be recognizing handwritten digits using a machine learning classification algorithm. Handwritten digits Dataset is from sklearn toy datasets Digits dataset contains 1797 input images and for each image there are 64 pixels(8x8 matrix) as features Output has 10 classes corresponding to all the digits(0-9) Support Vector Machine(SVM) classifier is being used as machine learning classification algorith.\n",
    "3. [Intel XGBoost Performance](./xgboost/IntelPython_XGBoost_Performance.ipynb) : In this example we will train a XGBoost model and predict the results to show off Intel's optimizations for XGBoost used for increased performance. Intel optimized XGBoost is shipped as a part of the Intel® oneAPI AI Analytics Toolkit. This example is a Jupyter Notebook version of a XGBoost example seen in this Medium blog using the popular Higgs dataset: \n",
    "https://medium.com/intel-analytics-software/new-optimizations-for-cpu-in-xgboost-1-1-81144ea2111515b)\n"
   ]
  }
 ],
 "metadata": {
  "kernelspec": {
   "display_name": "",
   "name": ""
  },
  "language_info": {
   "name": "python"
  }
 },
 "nbformat": 4,
 "nbformat_minor": 4
}
