{
 "cells": [
  {
   "cell_type": "markdown",
   "metadata": {},
   "source": [
    "# Get Started with AI Tools Selector Deep Learning Preset Container\n",
    "This Container feature a sample to get started with understanding how ai tools selector presets delivers optimized and scalable solutions for Deep Learning using Jupyterlab.\n",
    "\n",
    "- [Intel® Neural Compressor + TensorFlow](./inc-itex/inc_sample_tensorflow.ipynb): In this notebook we will demonstrate how you can use Intel Neural Compressor to quantize a TensorFlow model. First we will train a simple Convolution Neural Network model in Keras TensoFlow on the MNIST dataset. Then we will use Intel Neural Compressor to quantize the saved checkpoint. We will then use the quantized model to compare the performance with the original trained model to demonstrate the improvement. The performance metrics that's used to test the quantized model is **latency** and **throughput** while keeping the **accuracy** close to the orignial model."
   ]
  }
 ],
 "metadata": {
  "kernelspec": {
   "display_name": "",
   "name": ""
  },
  "language_info": {
   "name": "python"
  }
 },
 "nbformat": 4,
 "nbformat_minor": 4
}
